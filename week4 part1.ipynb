{
 "cells": [
  {
   "cell_type": "markdown",
   "metadata": {},
   "source": [
    "# Capstone Project. New place of residence"
   ]
  },
  {
   "cell_type": "markdown",
   "metadata": {},
   "source": [
    "## Introduction: Business Problem"
   ]
  },
  {
   "cell_type": "markdown",
   "metadata": {},
   "source": [
    "In this project, we will try to find the best place to live for a young person who has decided to change jobs and move to Moscow from St. Petersburg. This report will be of interest to anyone who wants to change their place of residence to Moscow.\n",
    "\n",
    "We will assume that the current place of residence suits the person in the part of the various venues around it and he wants the new place of residence to be as similar as possible to the current one. He also wants the new location will be within 500m of any metro station. Venues that are important to him and that he takes into account when evaluating a new place of residence:\n",
    "- ATMs\n",
    "- Restaurants\n",
    "- Bars\n",
    "- Fitness centers\n",
    "- Clubs\n",
    "- Drugstores\n",
    "- Movie theaters\n",
    "- Pools\n",
    "- Shopping Malls\n",
    "- Supermarkets\n",
    "\n",
    "Using data science, we will determine the most suitable place of residence for a young person, taking into account the above criteria."
   ]
  },
  {
   "cell_type": "code",
   "execution_count": null,
   "metadata": {},
   "outputs": [],
   "source": []
  }
 ],
 "metadata": {
  "kernelspec": {
   "display_name": "Python 3",
   "language": "python",
   "name": "python3"
  },
  "language_info": {
   "codemirror_mode": {
    "name": "ipython",
    "version": 3
   },
   "file_extension": ".py",
   "mimetype": "text/x-python",
   "name": "python",
   "nbconvert_exporter": "python",
   "pygments_lexer": "ipython3",
   "version": "3.8.3"
  }
 },
 "nbformat": 4,
 "nbformat_minor": 4
}
